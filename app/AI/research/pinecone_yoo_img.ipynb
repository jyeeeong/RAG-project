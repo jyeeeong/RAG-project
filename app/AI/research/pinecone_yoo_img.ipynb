{
  "nbformat": 4,
  "nbformat_minor": 0,
  "metadata": {
    "colab": {
      "provenance": [],
      "authorship_tag": "ABX9TyNFkx+7iZLq/c5PF+U5zxPX"
    },
    "kernelspec": {
      "name": "python3",
      "display_name": "Python 3"
    },
    "language_info": {
      "name": "python"
    }
  },
  "cells": [
    {
      "cell_type": "code",
      "source": [],
      "metadata": {
        "id": "7sQhZBxZ4-KJ"
      },
      "execution_count": null,
      "outputs": []
    },
    {
      "cell_type": "code",
      "execution_count": null,
      "metadata": {
        "colab": {
          "base_uri": "https://localhost:8080/"
        },
        "id": "aaZW4Lue2Of_",
        "outputId": "8a7f3565-14ba-43ed-9340-5324eaee68a1"
      },
      "outputs": [
        {
          "output_type": "stream",
          "name": "stdout",
          "text": [
            "Collecting pinecone-client\n",
            "  Downloading pinecone_client-4.0.0-py3-none-any.whl (214 kB)\n",
            "\u001b[2K     \u001b[90m━━━━━━━━━━━━━━━━━━━━━━━━━━━━━━━━━━━━━━━━\u001b[0m \u001b[32m214.5/214.5 kB\u001b[0m \u001b[31m1.7 MB/s\u001b[0m eta \u001b[36m0:00:00\u001b[0m\n",
            "\u001b[?25hRequirement already satisfied: certifi>=2019.11.17 in /usr/local/lib/python3.10/dist-packages (from pinecone-client) (2024.2.2)\n",
            "Requirement already satisfied: tqdm>=4.64.1 in /usr/local/lib/python3.10/dist-packages (from pinecone-client) (4.66.4)\n",
            "Requirement already satisfied: typing-extensions>=3.7.4 in /usr/local/lib/python3.10/dist-packages (from pinecone-client) (4.11.0)\n",
            "Requirement already satisfied: urllib3>=1.26.0 in /usr/local/lib/python3.10/dist-packages (from pinecone-client) (2.0.7)\n",
            "Installing collected packages: pinecone-client\n",
            "Successfully installed pinecone-client-4.0.0\n"
          ]
        }
      ],
      "source": [
        "pip install pinecone-client"
      ]
    },
    {
      "cell_type": "code",
      "source": [
        "pip install openai==0.28"
      ],
      "metadata": {
        "colab": {
          "base_uri": "https://localhost:8080/"
        },
        "id": "QQIFIQi34Tdh",
        "outputId": "7668b840-feb7-421e-dcb7-b2ed3f676d5b"
      },
      "execution_count": null,
      "outputs": [
        {
          "output_type": "stream",
          "name": "stdout",
          "text": [
            "Collecting openai==0.28\n",
            "  Downloading openai-0.28.0-py3-none-any.whl (76 kB)\n",
            "\u001b[2K     \u001b[90m━━━━━━━━━━━━━━━━━━━━━━━━━━━━━━━━━━━━━━━━\u001b[0m \u001b[32m76.5/76.5 kB\u001b[0m \u001b[31m1.1 MB/s\u001b[0m eta \u001b[36m0:00:00\u001b[0m\n",
            "\u001b[?25hRequirement already satisfied: requests>=2.20 in /usr/local/lib/python3.10/dist-packages (from openai==0.28) (2.31.0)\n",
            "Requirement already satisfied: tqdm in /usr/local/lib/python3.10/dist-packages (from openai==0.28) (4.66.4)\n",
            "Requirement already satisfied: aiohttp in /usr/local/lib/python3.10/dist-packages (from openai==0.28) (3.9.5)\n",
            "Requirement already satisfied: charset-normalizer<4,>=2 in /usr/local/lib/python3.10/dist-packages (from requests>=2.20->openai==0.28) (3.3.2)\n",
            "Requirement already satisfied: idna<4,>=2.5 in /usr/local/lib/python3.10/dist-packages (from requests>=2.20->openai==0.28) (3.7)\n",
            "Requirement already satisfied: urllib3<3,>=1.21.1 in /usr/local/lib/python3.10/dist-packages (from requests>=2.20->openai==0.28) (2.0.7)\n",
            "Requirement already satisfied: certifi>=2017.4.17 in /usr/local/lib/python3.10/dist-packages (from requests>=2.20->openai==0.28) (2024.2.2)\n",
            "Requirement already satisfied: aiosignal>=1.1.2 in /usr/local/lib/python3.10/dist-packages (from aiohttp->openai==0.28) (1.3.1)\n",
            "Requirement already satisfied: attrs>=17.3.0 in /usr/local/lib/python3.10/dist-packages (from aiohttp->openai==0.28) (23.2.0)\n",
            "Requirement already satisfied: frozenlist>=1.1.1 in /usr/local/lib/python3.10/dist-packages (from aiohttp->openai==0.28) (1.4.1)\n",
            "Requirement already satisfied: multidict<7.0,>=4.5 in /usr/local/lib/python3.10/dist-packages (from aiohttp->openai==0.28) (6.0.5)\n",
            "Requirement already satisfied: yarl<2.0,>=1.0 in /usr/local/lib/python3.10/dist-packages (from aiohttp->openai==0.28) (1.9.4)\n",
            "Requirement already satisfied: async-timeout<5.0,>=4.0 in /usr/local/lib/python3.10/dist-packages (from aiohttp->openai==0.28) (4.0.3)\n",
            "Installing collected packages: openai\n",
            "Successfully installed openai-0.28.0\n"
          ]
        }
      ]
    },
    {
      "cell_type": "code",
      "source": [
        "import os\n",
        "from pinecone import Pinecone, ServerlessSpec\n",
        "import openai\n",
        "from sklearn.decomposition import PCA\n",
        "import numpy as np\n",
        "\n",
        "# 벡터 데이터 예시, 실제 데이터로 대체해야 합니다.\n",
        "# 예를 들어, embedding['data'][0]['embedding'] 가 벡터 데이터를 포함하고 있다면,\n",
        "# 아래 embeddings에 해당 데이터를 넣어야 합니다.\n",
        "\n",
        "# 발급받은 API 키 설정\n",
        "OPENAI_API_KEY = \"\"\n",
        "\n",
        "# openai API 키 인증\n",
        "openai.api_key = OPENAI_API_KEY\n",
        "pc = Pinecone(api_key=\"\")\n",
        "\n",
        "# Pinecone 인덱스 초기화\n",
        "index = pc.Index(\"yoo-img\")\n",
        "\n",
        "file_path = \"/content/yoo_img.txt\"\n",
        "\n",
        "with open(file_path, 'r', encoding='utf-8') as file:\n",
        "    data = file.readlines()\n",
        "\n",
        "# 각 텍스트 라인에 대한 임베딩 생성\n",
        "embeddings = openai.Embedding.create(\n",
        "    model=\"text-embedding-3-small\",\n",
        "    input=data\n",
        ")\n",
        "\n",
        "# 각 텍스트 라인의 ID와 메타데이터 생성\n",
        "ids = [str(x) for x in range(len(data))]\n",
        "meta_datas = [{'text': text.strip()} for text in data]\n",
        "\n",
        "# (id, vector, metadata) 형식의 레코드 준비\n",
        "records = [(id, emb['embedding'], meta) for id, emb, meta in zip(ids, embeddings['data'], meta_datas)]\n",
        "\n",
        "# Pinecone 인덱스에 벡터 업로드\n",
        "index.upsert(vectors=records)"
      ],
      "metadata": {
        "colab": {
          "base_uri": "https://localhost:8080/"
        },
        "id": "6JkSikpz4V8s",
        "outputId": "81e8c479-de49-4ef0-c6d2-d614b585ff30"
      },
      "execution_count": null,
      "outputs": [
        {
          "output_type": "execute_result",
          "data": {
            "text/plain": [
              "{'upserted_count': 74}"
            ]
          },
          "metadata": {},
          "execution_count": 6
        }
      ]
    },
    {
      "cell_type": "code",
      "source": [
        "question = \"웃는 얼굴\"\n",
        "\n",
        "embedding = openai.Embedding.create(\n",
        "    model =\"text-embedding-3-small\",\n",
        "    input = question\n",
        ")\n",
        "# 원래의 벡터\n",
        "embadding_vector = embedding['data'][0]['embedding']\n",
        "\n",
        "query_result=index.query(\n",
        "  vector=embadding_vector,\n",
        "  top_k=5,\n",
        "  include_values=False,\n",
        "  include_metadata=True\n",
        ")\n",
        "\n",
        "result_ids = [ result.id for result in query_result.matches]\n",
        "\n",
        "for result in query_result.matches:\n",
        "  id = result.id\n",
        "  text = result.metadata['text'] #문서의 원본 텍스트\n",
        "  score = result.score #문서의 유사도\n",
        "  print(id,score,text)"
      ],
      "metadata": {
        "colab": {
          "base_uri": "https://localhost:8080/"
        },
        "id": "pkTBQZvs4mJs",
        "outputId": "241a27eb-0ad7-428f-cdde-444f469fcccc"
      },
      "execution_count": null,
      "outputs": [
        {
          "output_type": "stream",
          "name": "stdout",
          "text": [
            "43 0.560672283 웃고있는_멀리있는_아래를보는_옆모습.png\n",
            "50 0.514038503 웃고있는_위에서보는_반팔_실내.png\n",
            "57 0.511557519 웃고있는_화사한_셀카_정면.png\n",
            "51 0.508919537 웃고있는_인자한_어색한_양복_정면.png\n",
            "49 0.504846156 웃고있는_웃긴_못생긴_패딩_정면.png\n"
          ]
        }
      ]
    }
  ]
}