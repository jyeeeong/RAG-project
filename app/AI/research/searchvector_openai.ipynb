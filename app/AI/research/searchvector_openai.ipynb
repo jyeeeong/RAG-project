{
 "cells": [
  {
   "cell_type": "code",
   "execution_count": null,
   "metadata": {},
   "outputs": [],
   "source": [
    "pip install pinecone-client"
   ]
  },
  {
   "cell_type": "code",
   "execution_count": null,
   "metadata": {},
   "outputs": [],
   "source": [
    "pip install openai==0.28"
   ]
  },
  {
   "cell_type": "code",
   "execution_count": null,
   "metadata": {},
   "outputs": [],
   "source": [
    "import os\n",
    "from pinecone import Pinecone, ServerlessSpec\n",
    "import openai\n",
    "from sklearn.decomposition import PCA\n",
    "import numpy as np\n",
    "\n",
    "\n",
    "# 발급받은 API 키 설정\n",
    "OPENAI_API_KEY = \"\"\n",
    "\n",
    "# openai API 키 인증\n",
    "openai.api_key = OPENAI_API_KEY\n",
    "pc = Pinecone(api_key=\"\")\n",
    "\n",
    "# Pinecone 인덱스 초기화\n",
    "index = pc.Index(\"yoo\")\n",
    "\n",
    "file_path = \".txt\"\n",
    "\n",
    "with open(file_path, 'r', encoding='utf-8') as file:\n",
    "    data = file.readlines()\n",
    "    \n",
    "# 각 텍스트 라인에 대한 임베딩 생성\n",
    "embeddings = openai.Embedding.create(\n",
    "    model=\"text-embedding-3-small\",\n",
    "    input=data\n",
    ")\n",
    "\n",
    "# 각 텍스트 라인의 ID와 메타데이터 생성\n",
    "ids = [str(x) for x in range(len(data))]\n",
    "meta_datas = [{'text': text.strip()} for text in data]\n",
    "\n",
    "# (id, vector, metadata) 형식의 레코드 준비\n",
    "records = [(id, emb['embedding'], meta) for id, emb, meta in zip(ids, embeddings['data'], meta_datas)]\n",
    "\n",
    "# Pinecone 인덱스에 벡터 업로드\n",
    "index.upsert(vectors=records)"
   ]
  },
  {
   "cell_type": "code",
   "execution_count": null,
   "metadata": {},
   "outputs": [],
   "source": [
    "question = \"수능날 에피소드?\"\n",
    "\n",
    "embedding = openai.Embedding.create(\n",
    "    model =\"text-embedding-3-small\",\n",
    "    input = question\n",
    ")\n",
    "# 원래의 벡터\n",
    "embadding_vector = embedding['data'][0]['embedding']\n",
    "\n",
    "query_result=index.query(\n",
    "  vector=embadding_vector,\n",
    "  top_k=5,\n",
    "  include_values=False,\n",
    "  include_metadata=True\n",
    ")\n",
    "\n",
    "result_ids = [ result.id for result in query_result.matches]\n",
    "\n",
    "for result in query_result.matches:\n",
    "  id = result.id\n",
    "  text = result.metadata['text'] #문서의 원본 텍스트\n",
    "  score = result.score #문서의 유사도\n",
    "  print(id,score,text)"
   ]
  }
 ],
 "metadata": {
  "language_info": {
   "name": "python"
  }
 },
 "nbformat": 4,
 "nbformat_minor": 2
}
