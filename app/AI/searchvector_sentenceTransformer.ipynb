{
 "cells": [
  {
   "cell_type": "code",
   "execution_count": null,
   "metadata": {},
   "outputs": [],
   "source": [
    "pip install pinecone-client"
   ]
  },
  {
   "cell_type": "code",
   "execution_count": null,
   "metadata": {},
   "outputs": [],
   "source": [
    "!pip install -U pinecone-client sentence-transformers #https://huggingface.co/sentence-transformers/all-MiniLM-L6-v2"
   ]
  },
  {
   "cell_type": "code",
   "execution_count": null,
   "metadata": {},
   "outputs": [],
   "source": [
    "#384차원 \n",
    "from sentence_transformers import SentenceTransformer\n",
    "import os\n",
    "from pinecone import Pinecone, ServerlessSpec\n",
    "\n",
    "pc = Pinecone(api_key=\"\")\n",
    "index = pc.Index(\"yoo\")\n",
    "model = SentenceTransformer('all-MiniLM-L6-v2')\n",
    "\n",
    "file_path = \".txt\"\n",
    "with open(file_path, 'r', encoding='utf-8') as file:\n",
    "    data = file.readlines()\n",
    "\n",
    "# 각 텍스트 라인의 ID 생성\n",
    "ids = [str(x) for x in range(len(data))]\n",
    "embedded_datas = model.encode(data).tolist()\n",
    "meta_datas =[{'text':text} for text in data]\n",
    "\n",
    "records = zip(ids,embedded_datas, meta_datas)\n",
    "index.upsert(vectors=records)"
   ]
  },
  {
   "cell_type": "code",
   "execution_count": null,
   "metadata": {},
   "outputs": [],
   "source": [
    "def make_query(query):\n",
    "    # Create the query vector using the model\n",
    "    xq = model.encode(query).tolist()\n",
    "\n",
    "    # Now query the Pinecone index using keyword arguments\n",
    "    xc = index.query(vector=xq, top_k=5, include_metadata=True)\n",
    "\n",
    "    # Extract results\n",
    "    result = [{'score': match['score'], 'text': match['metadata']['text']} for match in xc['matches']]\n",
    "    return result\n",
    "\n",
    "# Example usage\n",
    "response = make_query(\"월요일 3시 뭐하셔?\")\n",
    "print(response)"
   ]
  }
 ],
 "metadata": {
  "language_info": {
   "name": "python"
  }
 },
 "nbformat": 4,
 "nbformat_minor": 2
}
